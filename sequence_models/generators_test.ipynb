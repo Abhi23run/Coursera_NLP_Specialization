{
 "cells": [
  {
   "cell_type": "code",
   "execution_count": null,
   "metadata": {},
   "outputs": [],
   "source": [
    "square = (i*i for i in count())\n",
    "bounded_squares = takewhile(lambda x : x< 100, square)\n",
    "total = 0\n",
    "for i in bounded_squares:\n",
    "   total += i"
   ]
  },
  {
   "cell_type": "code",
   "execution_count": null,
   "metadata": {},
   "outputs": [],
   "source": []
  }
 ],
 "metadata": {
  "kernelspec": {
   "display_name": "Python 3.9.12 ('base')",
   "language": "python",
   "name": "python3"
  },
  "language_info": {
   "name": "python",
   "version": "3.9.12"
  },
  "orig_nbformat": 4,
  "vscode": {
   "interpreter": {
    "hash": "b0ec106b0651820263daed082a35f344bc32c1313fbe4f3d22ad42ffab2e3b8d"
   }
  }
 },
 "nbformat": 4,
 "nbformat_minor": 2
}
